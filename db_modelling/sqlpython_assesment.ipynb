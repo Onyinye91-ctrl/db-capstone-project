{
 "cells": [
  {
   "cell_type": "code",
   "execution_count": 1,
   "metadata": {},
   "outputs": [],
   "source": [
    "import mysql.connector as connector"
   ]
  },
  {
   "cell_type": "code",
   "execution_count": 2,
   "metadata": {},
   "outputs": [],
   "source": [
    "connection = connector.connect(user=\"root\",password=\"root123\")"
   ]
  },
  {
   "cell_type": "code",
   "execution_count": 3,
   "metadata": {},
   "outputs": [],
   "source": [
    "#passed the connection to a cursor\n",
    "cursor = connection.cursor()"
   ]
  },
  {
   "cell_type": "code",
   "execution_count": 5,
   "metadata": {},
   "outputs": [],
   "source": [
    "cursor.execute(\"DROP DATABASE IF EXISTS little_lemons;\" )"
   ]
  },
  {
   "cell_type": "code",
   "execution_count": 6,
   "metadata": {},
   "outputs": [],
   "source": [
    "#create database\n",
    "create_database = \"\"\"CREATE DATABASE little_lemons\"\"\""
   ]
  },
  {
   "cell_type": "code",
   "execution_count": 7,
   "metadata": {},
   "outputs": [],
   "source": [
    "#execute database\n",
    "cursor.execute(create_database)"
   ]
  },
  {
   "cell_type": "code",
   "execution_count": 8,
   "metadata": {},
   "outputs": [],
   "source": [
    "# set the database for use\n",
    "use_database = \"\"\"USE little_lemons\"\"\""
   ]
  },
  {
   "cell_type": "code",
   "execution_count": 9,
   "metadata": {},
   "outputs": [],
   "source": [
    "# pass the database to execute\n",
    "cursor.execute(use_database)"
   ]
  },
  {
   "cell_type": "code",
   "execution_count": 11,
   "metadata": {},
   "outputs": [],
   "source": [
    "# Create table MenuItem\n",
    "create_table = \"\"\"CREATE TABLE MenuItem (\n",
    "ItemID INT AUTO_INCREMENT,\n",
    "Name VARCHAR(200),\n",
    "Type VARCHAR(100),\n",
    "Price INT,\n",
    "PRIMARY KEY(ItemID))\n",
    "\"\"\"\n"
   ]
  },
  {
   "cell_type": "code",
   "execution_count": 12,
   "metadata": {},
   "outputs": [],
   "source": [
    "cursor.execute(create_table)"
   ]
  },
  {
   "cell_type": "code",
   "execution_count": 13,
   "metadata": {},
   "outputs": [
    {
     "name": "stdout",
     "output_type": "stream",
     "text": [
      "('information_schema',)\n",
      "('little_lemon',)\n",
      "('little_lemons',)\n",
      "('mysql',)\n",
      "('performance_schema',)\n",
      "('projects',)\n",
      "('sys',)\n"
     ]
    }
   ],
   "source": [
    "# show databases created\n",
    "cursor.execute(\"\"\"SHOW DATABASES\"\"\")\n",
    "for database in cursor:\n",
    "    print(database)"
   ]
  },
  {
   "cell_type": "code",
   "execution_count": 14,
   "metadata": {},
   "outputs": [
    {
     "data": {
      "text/plain": [
       "'little_lemons'"
      ]
     },
     "execution_count": 14,
     "metadata": {},
     "output_type": "execute_result"
    }
   ],
   "source": [
    "# confirm that database is available\n",
    "connection.database"
   ]
  },
  {
   "cell_type": "code",
   "execution_count": 18,
   "metadata": {},
   "outputs": [],
   "source": [
    "create_menu_table = \"\"\"CREATE TABLE Menus (\n",
    "MenuID INT,\n",
    "ItemID INT,\n",
    "Cuisine VARCHAR(100),\n",
    "PRIMARY KEY (MenuID,ItemID)\n",
    ");\"\"\""
   ]
  },
  {
   "cell_type": "code",
   "execution_count": 19,
   "metadata": {},
   "outputs": [],
   "source": [
    "cursor.execute(create_menu_table)"
   ]
  },
  {
   "cell_type": "code",
   "execution_count": 20,
   "metadata": {},
   "outputs": [],
   "source": [
    "insert_menu=\"\"\"\n",
    "INSERT INTO Menus (MenuID,ItemID,Cuisine)\n",
    "VALUES\n",
    "(1, 1, 'Greek'),\n",
    "(1, 7, 'Greek'),\n",
    "(1, 10, 'Greek'),\n",
    "(1, 13, 'Greek'),\n",
    "(2, 3, 'Italian'),\n",
    "(2, 9, 'Italian'),\n",
    "(2, 12, 'Italian'),\n",
    "(2, 15, 'Italian'),\n",
    "(3, 5, 'Turkish'),\n",
    "(3, 17, 'Turkish'),\n",
    "(3, 11, 'Turkish'),\n",
    "(3, 16, 'Turkish');\"\"\""
   ]
  },
  {
   "cell_type": "code",
   "execution_count": 21,
   "metadata": {},
   "outputs": [],
   "source": [
    "cursor.execute(insert_menu)"
   ]
  },
  {
   "cell_type": "code",
   "execution_count": 22,
   "metadata": {},
   "outputs": [],
   "source": [
    "connection.commit()"
   ]
  },
  {
   "cell_type": "code",
   "execution_count": 23,
   "metadata": {},
   "outputs": [
    {
     "name": "stdout",
     "output_type": "stream",
     "text": [
      "('menuitem',)\n",
      "('menus',)\n"
     ]
    }
   ],
   "source": [
    "# show all tables created in the database\n",
    "\n",
    "cursor.execute(\"SHOW TABLES\")\n",
    "for tables in cursor:\n",
    "    print(tables)"
   ]
  },
  {
   "cell_type": "code",
   "execution_count": 25,
   "metadata": {},
   "outputs": [
    {
     "name": "stdout",
     "output_type": "stream",
     "text": [
      "('menuitem',)\n",
      "('menus',)\n"
     ]
    }
   ],
   "source": [
    "buff_cursor = connection.cursor(buffered=True)\n",
    "buff_cursor.execute(\"USE little_lemons\")\n",
    "buff_cursor.execute(\"SHOW TABLES\")\n",
    "for tables in buff_cursor:\n",
    "    print(tables)"
   ]
  },
  {
   "cell_type": "code",
   "execution_count": 26,
   "metadata": {},
   "outputs": [
    {
     "name": "stdout",
     "output_type": "stream",
     "text": [
      "{'Tables_in_little_lemons': 'menuitem'}\n",
      "{'Tables_in_little_lemons': 'menus'}\n"
     ]
    }
   ],
   "source": [
    "dict_cursor = connection.cursor(dictionary=True)\n",
    "dict_cursor.execute(\"USE little_lemons\")\n",
    "dict_cursor.execute(\"SHOW TABLES\")\n",
    "for tables in dict_cursor:\n",
    "    print(tables)"
   ]
  },
  {
   "cell_type": "code",
   "execution_count": null,
   "metadata": {},
   "outputs": [],
   "source": []
  },
  {
   "cell_type": "code",
   "execution_count": 21,
   "metadata": {},
   "outputs": [],
   "source": [
    "cursor.execute(\"DROP  IF EXIST\")"
   ]
  },
  {
   "cell_type": "code",
   "execution_count": 22,
   "metadata": {},
   "outputs": [],
   "source": [
    "# connection.commit()"
   ]
  },
  {
   "cell_type": "code",
   "execution_count": 29,
   "metadata": {},
   "outputs": [],
   "source": [
    "# insert data into MenuItem\n",
    "insert_menuitems=\"\"\"\n",
    "INSERT INTO MenuItem (ItemID, Name, Type, Price)\n",
    "VALUES\n",
    "(1,'Olives','Starters',5),\n",
    "(2,'Flatbread','Starters', 5),\n",
    "(3, 'Minestrone', 'Starters', 8),\n",
    "(4, 'Tomato bread','Starters', 8),\n",
    "(5, 'Falafel', 'Starters', 7),\n",
    "(6, 'Hummus', 'Starters', 5),\n",
    "(7, 'Greek salad', 'Main Courses', 15),\n",
    "(8, 'Bean soup', 'Main Courses', 12),\n",
    "(9, 'Pizza', 'Main Courses', 15),\n",
    "(10,'Greek yoghurt','Desserts', 7),\n",
    "(11, 'Ice cream', 'Desserts', 6),\n",
    "(12, 'Cheesecake', 'Desserts', 4),\n",
    "(13, 'Athens White wine', 'Drinks', 25),\n",
    "(14, 'Corfu Red Wine', 'Drinks', 30),\n",
    "(15, 'Turkish Coffee', 'Drinks', 10),\n",
    "(16, 'Turkish Coffee', 'Drinks', 10),\n",
    "(17, 'Kabasa', 'Main Courses', 17);\"\"\""
   ]
  },
  {
   "cell_type": "code",
   "execution_count": 30,
   "metadata": {},
   "outputs": [],
   "source": [
    "# pass the data into excute function\n",
    "cursor.execute(insert_menuitmes)"
   ]
  },
  {
   "cell_type": "code",
   "execution_count": 31,
   "metadata": {},
   "outputs": [],
   "source": [
    "# commit your connection\n",
    "connection.commit()"
   ]
  },
  {
   "cell_type": "code",
   "execution_count": 32,
   "metadata": {},
   "outputs": [],
   "source": [
    "# read data inserted\n",
    "read_data = \"\"\"SELECT * FROM MenuItem\"\"\""
   ]
  },
  {
   "cell_type": "code",
   "execution_count": 33,
   "metadata": {},
   "outputs": [],
   "source": [
    "cursor.execute(read_data)"
   ]
  },
  {
   "cell_type": "code",
   "execution_count": 34,
   "metadata": {},
   "outputs": [],
   "source": [
    "# fetch all the data\n",
    "result = cursor.fetchall()"
   ]
  },
  {
   "cell_type": "code",
   "execution_count": 35,
   "metadata": {},
   "outputs": [
    {
     "name": "stdout",
     "output_type": "stream",
     "text": [
      "[(1, 'Olives', 'Starters', 5), (2, 'Flatbread', 'Starters', 5), (3, 'Minestrone', 'Starters', 8), (4, 'Tomato bread', 'Starters', 8), (5, 'Falafel', 'Starters', 7), (6, 'Hummus', 'Starters', 5), (7, 'Greek salad', 'Main Courses', 15), (8, 'Bean soup', 'Main Courses', 12), (9, 'Pizza', 'Main Courses', 15), (10, 'Greek yoghurt', 'Desserts', 7), (11, 'Ice cream', 'Desserts', 6), (12, 'Cheesecake', 'Desserts', 4), (13, 'Athens White wine', 'Drinks', 25), (14, 'Corfu Red Wine', 'Drinks', 30), (15, 'Turkish Coffee', 'Drinks', 10), (16, 'Turkish Coffee', 'Drinks', 10), (17, 'Kabasa', 'Main Courses', 17)]\n"
     ]
    }
   ],
   "source": [
    "print(result)"
   ]
  },
  {
   "cell_type": "code",
   "execution_count": 36,
   "metadata": {},
   "outputs": [
    {
     "name": "stdout",
     "output_type": "stream",
     "text": [
      "(1, 'Olives', 'Starters', 5)\n",
      "(2, 'Flatbread', 'Starters', 5)\n",
      "(3, 'Minestrone', 'Starters', 8)\n",
      "(4, 'Tomato bread', 'Starters', 8)\n",
      "(5, 'Falafel', 'Starters', 7)\n",
      "(6, 'Hummus', 'Starters', 5)\n",
      "(7, 'Greek salad', 'Main Courses', 15)\n",
      "(8, 'Bean soup', 'Main Courses', 12)\n",
      "(9, 'Pizza', 'Main Courses', 15)\n",
      "(10, 'Greek yoghurt', 'Desserts', 7)\n",
      "(11, 'Ice cream', 'Desserts', 6)\n",
      "(12, 'Cheesecake', 'Desserts', 4)\n",
      "(13, 'Athens White wine', 'Drinks', 25)\n",
      "(14, 'Corfu Red Wine', 'Drinks', 30)\n",
      "(15, 'Turkish Coffee', 'Drinks', 10)\n",
      "(16, 'Turkish Coffee', 'Drinks', 10)\n",
      "(17, 'Kabasa', 'Main Courses', 17)\n"
     ]
    }
   ],
   "source": [
    "for i in result:\n",
    "    print(i)"
   ]
  },
  {
   "cell_type": "code",
   "execution_count": 37,
   "metadata": {},
   "outputs": [],
   "source": [
    "# get the column names\n",
    "col = cursor.column_names"
   ]
  },
  {
   "cell_type": "code",
   "execution_count": 38,
   "metadata": {},
   "outputs": [
    {
     "name": "stdout",
     "output_type": "stream",
     "text": [
      "('ItemID', 'Name', 'Type', 'Price')\n"
     ]
    }
   ],
   "source": [
    "print(col)"
   ]
  },
  {
   "cell_type": "code",
   "execution_count": null,
   "metadata": {},
   "outputs": [],
   "source": [
    "# connection.close()"
   ]
  },
  {
   "cell_type": "code",
   "execution_count": null,
   "metadata": {},
   "outputs": [],
   "source": [
    "# update record in MenuItem table\n",
    "# update_book = \"\"\"\n",
    "# UPDATE MenuItem\n",
    "# SET Price = 100\n",
    "# WHERE ItemID = 15;\n",
    "# \"\"\""
   ]
  },
  {
   "cell_type": "code",
   "execution_count": null,
   "metadata": {},
   "outputs": [],
   "source": [
    "# cursor.execute(update_book)"
   ]
  },
  {
   "cell_type": "code",
   "execution_count": null,
   "metadata": {},
   "outputs": [],
   "source": [
    "# commit changes\n",
    "# connection.commit()"
   ]
  },
  {
   "cell_type": "code",
   "execution_count": null,
   "metadata": {},
   "outputs": [],
   "source": [
    "# delete record from bookings table\n",
    "# del_record = \"\"\"\n",
    "# DELETE FROM MenuItem\n",
    "# WHERE ItemID = 17;\n",
    "# \"\"\""
   ]
  },
  {
   "cell_type": "code",
   "execution_count": null,
   "metadata": {},
   "outputs": [],
   "source": [
    "# cursor.execute(del_record)"
   ]
  },
  {
   "cell_type": "code",
   "execution_count": null,
   "metadata": {},
   "outputs": [],
   "source": [
    "# commit changes\n",
    "# connection.commit()"
   ]
  },
  {
   "cell_type": "code",
   "execution_count": 39,
   "metadata": {},
   "outputs": [],
   "source": [
    "# create booking table\n",
    "create_booking_table=\"\"\"CREATE TABLE Bookings (\n",
    "BookingID INT AUTO_INCREMENT,\n",
    "TableNo INT,\n",
    "GuestFirstName VARCHAR(100) NOT NULL,\n",
    "GuestLastName VARCHAR(100) NOT NULL,\n",
    "BookingSlot TIME NOT NULL,\n",
    "EmployeeID INT,\n",
    "PRIMARY KEY (BookingID)\n",
    ");\"\"\""
   ]
  },
  {
   "cell_type": "code",
   "execution_count": 40,
   "metadata": {},
   "outputs": [],
   "source": [
    "cursor.execute(create_booking_table)"
   ]
  },
  {
   "cell_type": "code",
   "execution_count": 41,
   "metadata": {},
   "outputs": [],
   "source": [
    "insert_bookings=\"\"\"\n",
    "INSERT INTO Bookings (BookingID, TableNo, GuestFirstName, \n",
    "GuestLastName, BookingSlot, EmployeeID)\n",
    "VALUES\n",
    "(1,12,'Anna','Iversen','19:00:00',1),\n",
    "(2, 12, 'Joakim', 'Iversen', '19:00:00', 1),\n",
    "(3, 19, 'Vanessa', 'McCarthy', '15:00:00', 3),\n",
    "(4, 15, 'Marcos', 'Romero', '17:30:00', 4),\n",
    "(5, 5, 'Hiroki', 'Yamane', '18:30:00', 2),\n",
    "(6, 8, 'Diana', 'Pinto', '20:00:00', 5);\"\"\""
   ]
  },
  {
   "cell_type": "code",
   "execution_count": 42,
   "metadata": {},
   "outputs": [],
   "source": [
    "cursor.execute(insert_bookings)"
   ]
  },
  {
   "cell_type": "code",
   "execution_count": 43,
   "metadata": {},
   "outputs": [],
   "source": [
    "connection.commit()"
   ]
  },
  {
   "cell_type": "code",
   "execution_count": 44,
   "metadata": {},
   "outputs": [],
   "source": [
    "show_bookings = \"\"\"SELECT * FROM Bookings\"\"\""
   ]
  },
  {
   "cell_type": "code",
   "execution_count": 45,
   "metadata": {},
   "outputs": [],
   "source": [
    "cursor.execute(show_bookings)"
   ]
  },
  {
   "cell_type": "code",
   "execution_count": 46,
   "metadata": {},
   "outputs": [],
   "source": [
    "fetch_bookings = cursor.fetchall()"
   ]
  },
  {
   "cell_type": "code",
   "execution_count": 47,
   "metadata": {},
   "outputs": [
    {
     "name": "stdout",
     "output_type": "stream",
     "text": [
      "[(1, 12, 'Anna', 'Iversen', datetime.timedelta(seconds=68400), 1), (2, 12, 'Joakim', 'Iversen', datetime.timedelta(seconds=68400), 1), (3, 19, 'Vanessa', 'McCarthy', datetime.timedelta(seconds=54000), 3), (4, 15, 'Marcos', 'Romero', datetime.timedelta(seconds=63000), 4), (5, 5, 'Hiroki', 'Yamane', datetime.timedelta(seconds=66600), 2), (6, 8, 'Diana', 'Pinto', datetime.timedelta(seconds=72000), 5)]\n"
     ]
    }
   ],
   "source": [
    "print(fetch_bookings)"
   ]
  },
  {
   "cell_type": "code",
   "execution_count": 48,
   "metadata": {},
   "outputs": [],
   "source": [
    "# create orders table\n",
    "create_orders_table=\"\"\"\n",
    "CREATE TABLE Orders (\n",
    "OrderID INT,\n",
    "TableNo INT,\n",
    "MenuID INT,\n",
    "BookingID INT,\n",
    "BillAmount INT,\n",
    "Quantity INT,\n",
    "PRIMARY KEY (OrderID,TableNo)\n",
    ");\"\"\""
   ]
  },
  {
   "cell_type": "code",
   "execution_count": 49,
   "metadata": {},
   "outputs": [],
   "source": [
    "cursor.execute(create_orders_table)"
   ]
  },
  {
   "cell_type": "code",
   "execution_count": 50,
   "metadata": {},
   "outputs": [],
   "source": [
    "insert_orders=\"\"\"\n",
    "INSERT INTO Orders (OrderID, TableNo, MenuID, BookingID, Quantity, BillAmount)\n",
    "VALUES\n",
    "(1, 12, 1, 1, 2, 86),\n",
    "(2, 19, 2, 2, 1, 37),\n",
    "(3, 15, 2, 3, 1, 37),\n",
    "(4, 5, 3, 4, 1, 40),\n",
    "(5, 8, 1, 5, 1, 43);\"\"\""
   ]
  },
  {
   "cell_type": "code",
   "execution_count": 51,
   "metadata": {},
   "outputs": [],
   "source": [
    "cursor.execute(insert_orders)"
   ]
  },
  {
   "cell_type": "code",
   "execution_count": 52,
   "metadata": {},
   "outputs": [],
   "source": [
    "connection.commit()"
   ]
  },
  {
   "cell_type": "code",
   "execution_count": 53,
   "metadata": {},
   "outputs": [],
   "source": [
    "show_orders = \"\"\"SELECT * FROM Orders\"\"\""
   ]
  },
  {
   "cell_type": "code",
   "execution_count": 54,
   "metadata": {},
   "outputs": [],
   "source": [
    "cursor.execute(show_orders)"
   ]
  },
  {
   "cell_type": "code",
   "execution_count": 55,
   "metadata": {},
   "outputs": [],
   "source": [
    "fetch_orders = cursor.fetchall()"
   ]
  },
  {
   "cell_type": "code",
   "execution_count": 56,
   "metadata": {},
   "outputs": [
    {
     "name": "stdout",
     "output_type": "stream",
     "text": [
      "[(1, 12, 1, 1, 86, 2), (2, 19, 2, 2, 37, 1), (3, 15, 2, 3, 37, 1), (4, 5, 3, 4, 40, 1), (5, 8, 1, 5, 43, 1)]\n"
     ]
    }
   ],
   "source": [
    "print(fetch_orders)"
   ]
  },
  {
   "cell_type": "code",
   "execution_count": 57,
   "metadata": {},
   "outputs": [],
   "source": [
    "# print the columns of Orders table\n",
    "cols = cursor.column_names"
   ]
  },
  {
   "cell_type": "code",
   "execution_count": 58,
   "metadata": {},
   "outputs": [
    {
     "name": "stdout",
     "output_type": "stream",
     "text": [
      "('OrderID', 'TableNo', 'MenuID', 'BookingID', 'BillAmount', 'Quantity')\n"
     ]
    }
   ],
   "source": [
    "print(cols)"
   ]
  },
  {
   "cell_type": "code",
   "execution_count": 59,
   "metadata": {},
   "outputs": [],
   "source": [
    "# fetch all orders whose billamount is greater than or equal to 40\n",
    "sql_query = \"\"\"SELECT BookingID, BillAmount\n",
    "FROM Orders WHERE BillAmount >= 40\n",
    "ORDER BY BillAmount ASC\n",
    "\"\"\""
   ]
  },
  {
   "cell_type": "code",
   "execution_count": 60,
   "metadata": {},
   "outputs": [],
   "source": [
    "cursor.execute(sql_query)"
   ]
  },
  {
   "cell_type": "code",
   "execution_count": 61,
   "metadata": {},
   "outputs": [],
   "source": [
    "fetch_query = cursor.fetchall()"
   ]
  },
  {
   "cell_type": "code",
   "execution_count": 62,
   "metadata": {},
   "outputs": [
    {
     "name": "stdout",
     "output_type": "stream",
     "text": [
      "('BookingID', 'BillAmount')\n",
      "(4, 40)\n",
      "(5, 43)\n",
      "(1, 86)\n"
     ]
    }
   ],
   "source": [
    "# print the colnames and values\n",
    "print(cursor.column_names)\n",
    "for rows in fetch_query:\n",
    "    print(rows)"
   ]
  },
  {
   "cell_type": "code",
   "execution_count": 63,
   "metadata": {},
   "outputs": [
    {
     "name": "stdout",
     "output_type": "stream",
     "text": [
      "('bookings',)\n",
      "('menuitem',)\n",
      "('menus',)\n",
      "('orders',)\n"
     ]
    }
   ],
   "source": [
    "cursor.execute(\"SHOW TABLES\")\n",
    "for table in cursor:\n",
    "    print(table)"
   ]
  },
  {
   "cell_type": "code",
   "execution_count": 64,
   "metadata": {},
   "outputs": [],
   "source": [
    "# join menus and menuitems\n",
    "join_table = \"\"\"SELECT MT.Name, MT.Type, MT.Price, M.Cuisine\n",
    "FROM MenuItem MT\n",
    "INNER JOIN Menus M\n",
    "ON MT.ItemID = M.ItemID;\n",
    "\"\"\""
   ]
  },
  {
   "cell_type": "code",
   "execution_count": 65,
   "metadata": {},
   "outputs": [],
   "source": [
    "cursor.execute(join_table)"
   ]
  },
  {
   "cell_type": "code",
   "execution_count": 66,
   "metadata": {},
   "outputs": [],
   "source": [
    "fetch_table = cursor.fetchall()"
   ]
  },
  {
   "cell_type": "code",
   "execution_count": 67,
   "metadata": {},
   "outputs": [
    {
     "name": "stdout",
     "output_type": "stream",
     "text": [
      "[('Olives', 'Starters', 5, 'Greek'), ('Greek salad', 'Main Courses', 15, 'Greek'), ('Greek yoghurt', 'Desserts', 7, 'Greek'), ('Athens White wine', 'Drinks', 25, 'Greek'), ('Minestrone', 'Starters', 8, 'Italian'), ('Pizza', 'Main Courses', 15, 'Italian'), ('Cheesecake', 'Desserts', 4, 'Italian'), ('Turkish Coffee', 'Drinks', 10, 'Italian'), ('Falafel', 'Starters', 7, 'Turkish'), ('Ice cream', 'Desserts', 6, 'Turkish'), ('Turkish Coffee', 'Drinks', 10, 'Turkish'), ('Kabasa', 'Main Courses', 17, 'Turkish')]\n"
     ]
    }
   ],
   "source": [
    "print(fetch_table)"
   ]
  },
  {
   "cell_type": "code",
   "execution_count": 68,
   "metadata": {},
   "outputs": [
    {
     "name": "stdout",
     "output_type": "stream",
     "text": [
      "('Name', 'Type', 'Price', 'Cuisine')\n",
      "('Olives', 'Starters', 5, 'Greek')\n",
      "('Greek salad', 'Main Courses', 15, 'Greek')\n",
      "('Greek yoghurt', 'Desserts', 7, 'Greek')\n",
      "('Athens White wine', 'Drinks', 25, 'Greek')\n",
      "('Minestrone', 'Starters', 8, 'Italian')\n",
      "('Pizza', 'Main Courses', 15, 'Italian')\n",
      "('Cheesecake', 'Desserts', 4, 'Italian')\n",
      "('Turkish Coffee', 'Drinks', 10, 'Italian')\n",
      "('Falafel', 'Starters', 7, 'Turkish')\n",
      "('Ice cream', 'Desserts', 6, 'Turkish')\n",
      "('Turkish Coffee', 'Drinks', 10, 'Turkish')\n",
      "('Kabasa', 'Main Courses', 17, 'Turkish')\n"
     ]
    }
   ],
   "source": [
    "print(cursor.column_names)\n",
    "for tables in fetch_table:\n",
    "    print(tables)"
   ]
  },
  {
   "cell_type": "code",
   "execution_count": 69,
   "metadata": {},
   "outputs": [],
   "source": [
    "# Add your code here\n",
    "query2 = \"\"\"SELECT MT.Name, MT.Type, M.Cuisine, MT.Price\n",
    "FROM MenuItem MT\n",
    "LEFT JOIN Menus M\n",
    "ON M.ItemID = MT.ItemID\n",
    "WHERE M.Cuisine IS NULL;\n",
    "\"\"\""
   ]
  },
  {
   "cell_type": "code",
   "execution_count": 70,
   "metadata": {},
   "outputs": [],
   "source": [
    "cursor.execute(query2)"
   ]
  },
  {
   "cell_type": "code",
   "execution_count": 71,
   "metadata": {},
   "outputs": [],
   "source": [
    "fetch_query2 = cursor.fetchall()"
   ]
  },
  {
   "cell_type": "code",
   "execution_count": 72,
   "metadata": {},
   "outputs": [
    {
     "name": "stdout",
     "output_type": "stream",
     "text": [
      "('Name', 'Type', 'Cuisine', 'Price')\n",
      "('Flatbread', 'Starters', None, 5)\n",
      "('Tomato bread', 'Starters', None, 8)\n",
      "('Hummus', 'Starters', None, 5)\n",
      "('Bean soup', 'Main Courses', None, 12)\n",
      "('Corfu Red Wine', 'Drinks', None, 30)\n"
     ]
    }
   ],
   "source": [
    "print(cursor.column_names)\n",
    "for names in fetch_query2:\n",
    "    print(names)"
   ]
  },
  {
   "cell_type": "code",
   "execution_count": 73,
   "metadata": {},
   "outputs": [],
   "source": [
    "import datetime as dt"
   ]
  },
  {
   "cell_type": "code",
   "execution_count": 74,
   "metadata": {},
   "outputs": [
    {
     "name": "stdout",
     "output_type": "stream",
     "text": [
      "2023-06-07 13:09:56.028679\n"
     ]
    }
   ],
   "source": [
    "current_time = dt.datetime.now()\n",
    "print(current_time)"
   ]
  },
  {
   "cell_type": "code",
   "execution_count": 75,
   "metadata": {},
   "outputs": [
    {
     "name": "stdout",
     "output_type": "stream",
     "text": [
      "2023-06-07\n",
      "13:09:56.028679\n"
     ]
    }
   ],
   "source": [
    "print(current_time.date()) #print current date\n",
    "print(current_time.time()) #print current time"
   ]
  },
  {
   "cell_type": "code",
   "execution_count": 76,
   "metadata": {},
   "outputs": [
    {
     "name": "stdout",
     "output_type": "stream",
     "text": [
      "2023-06-14\n"
     ]
    }
   ],
   "source": [
    "# what is the date for 7 days from now\n",
    "week = dt.timedelta(7)\n",
    "print(current_time.date() + week)"
   ]
  },
  {
   "cell_type": "code",
   "execution_count": 77,
   "metadata": {},
   "outputs": [],
   "source": [
    "# add one hour to each bookingslot in Bookings table\n",
    "book_query = \"\"\"SELECT * FROM Bookings\n",
    "\"\"\""
   ]
  },
  {
   "cell_type": "code",
   "execution_count": 78,
   "metadata": {},
   "outputs": [],
   "source": [
    "cursor.execute(book_query)"
   ]
  },
  {
   "cell_type": "code",
   "execution_count": 79,
   "metadata": {},
   "outputs": [
    {
     "name": "stdout",
     "output_type": "stream",
     "text": [
      "('BookingID', 'TableNo', 'GuestFirstName', 'GuestLastName', 'BookingSlot', 'EmployeeID')\n"
     ]
    }
   ],
   "source": [
    "print(cursor.column_names)"
   ]
  },
  {
   "cell_type": "code",
   "execution_count": 80,
   "metadata": {},
   "outputs": [
    {
     "name": "stdout",
     "output_type": "stream",
     "text": [
      "BookingID 1 is moved from 19:00:00 time to 20:00:00 time\n",
      "BookingID 2 is moved from 19:00:00 time to 20:00:00 time\n",
      "BookingID 3 is moved from 15:00:00 time to 16:00:00 time\n",
      "BookingID 4 is moved from 17:30:00 time to 18:30:00 time\n",
      "BookingID 5 is moved from 18:30:00 time to 19:30:00 time\n",
      "BookingID 6 is moved from 20:00:00 time to 21:00:00 time\n"
     ]
    }
   ],
   "source": [
    "for row in cursor:\n",
    "    bookingid = row[0]\n",
    "    bookingslot = row[4]\n",
    "    new_bookingslot = bookingslot + dt.timedelta(hours = 1)\n",
    "    print(\"BookingID {} is moved from {} time to {} time\".format(bookingid, bookingslot, new_bookingslot))"
   ]
  },
  {
   "cell_type": "markdown",
   "metadata": {},
   "source": [
    "### Task 1:\n",
    "\n",
    "Along with the booking ID, little lemon needs to add the full name of the guests in upper case on their invoices. Help little lemon to extract the data in the required format.  \n",
    "\n",
    "TIP: Target `GuestFistName`, `GuestLastName` and combine them to get `GuestFullName`.  "
   ]
  },
  {
   "cell_type": "code",
   "execution_count": 81,
   "metadata": {},
   "outputs": [],
   "source": [
    "concat_name = \"\"\" SELECT BookingID AS ID, UPPER(CONCAT(GuestFirstName, ' ', GuestLastName)) AS GuestFullName FROM Bookings;\n",
    "\"\"\""
   ]
  },
  {
   "cell_type": "code",
   "execution_count": 82,
   "metadata": {},
   "outputs": [],
   "source": [
    "cursor.execute(concat_name)"
   ]
  },
  {
   "cell_type": "code",
   "execution_count": 83,
   "metadata": {},
   "outputs": [],
   "source": [
    "fetch_names = cursor.fetchall()\n"
   ]
  },
  {
   "cell_type": "code",
   "execution_count": 84,
   "metadata": {},
   "outputs": [
    {
     "name": "stdout",
     "output_type": "stream",
     "text": [
      "('ID', 'GuestFullName')\n",
      "(1, 'ANNA IVERSEN')\n",
      "(2, 'JOAKIM IVERSEN')\n",
      "(3, 'VANESSA MCCARTHY')\n",
      "(4, 'MARCOS ROMERO')\n",
      "(5, 'HIROKI YAMANE')\n",
      "(6, 'DIANA PINTO')\n"
     ]
    }
   ],
   "source": [
    "print(cursor.column_names)\n",
    "for n in fetch_names:\n",
    "    print(n)"
   ]
  },
  {
   "cell_type": "markdown",
   "metadata": {},
   "source": [
    "### Task 2\n",
    "Little lemon needs to know the following statistics at closing: \n",
    "\n",
    "* Number of bookings \n",
    "* Total sale \n",
    "* Average sale \n",
    "\n",
    "Help little lemon to compute the required statistics from the data in the “Orders” table using python."
   ]
  },
  {
   "cell_type": "code",
   "execution_count": 85,
   "metadata": {},
   "outputs": [],
   "source": [
    "orders_table = \"\"\"SELECT * FROM Orders\"\"\""
   ]
  },
  {
   "cell_type": "code",
   "execution_count": 86,
   "metadata": {},
   "outputs": [],
   "source": [
    "cursor.execute(orders_table)"
   ]
  },
  {
   "cell_type": "code",
   "execution_count": 87,
   "metadata": {},
   "outputs": [
    {
     "name": "stdout",
     "output_type": "stream",
     "text": [
      "('OrderID', 'TableNo', 'MenuID', 'BookingID', 'BillAmount', 'Quantity')\n"
     ]
    }
   ],
   "source": [
    "cols = cursor.column_names\n",
    "print(cols)"
   ]
  },
  {
   "cell_type": "code",
   "execution_count": 88,
   "metadata": {},
   "outputs": [],
   "source": [
    "fetch_orders = cursor.fetchall()"
   ]
  },
  {
   "cell_type": "code",
   "execution_count": 89,
   "metadata": {},
   "outputs": [],
   "source": [
    "stats_orders = \"\"\"SELECT COUNT(BookingID) AS ID, SUM(BillAmount) AS Total_sales, AVG(BillAmount) AS Avg_sales FROM Orders\n",
    "\"\"\""
   ]
  },
  {
   "cell_type": "code",
   "execution_count": 90,
   "metadata": {},
   "outputs": [],
   "source": [
    "cursor.execute(stats_orders)"
   ]
  },
  {
   "cell_type": "code",
   "execution_count": 91,
   "metadata": {},
   "outputs": [],
   "source": [
    "results = cursor.fetchall()"
   ]
  },
  {
   "cell_type": "code",
   "execution_count": 92,
   "metadata": {},
   "outputs": [
    {
     "name": "stdout",
     "output_type": "stream",
     "text": [
      "Today's statistics:\n",
      "Number of bookings: 5\n",
      "Total sale: 243\n",
      "Average sale: 48.6000\n"
     ]
    }
   ],
   "source": [
    "print(\"Today's statistics:\")\n",
    "for result in results:\n",
    "    print(\"Number of bookings:\",result[0])\n",
    "    print(\"Total sale:\",result[1])\n",
    "    print(\"Average sale:\",result[2])"
   ]
  },
  {
   "cell_type": "markdown",
   "metadata": {},
   "source": [
    "### Task 3:\n",
    "\n",
    "Little lemon needs to know the number of bookings for each table. Please help them to print the table number and the number of bookings for each table. "
   ]
  },
  {
   "cell_type": "code",
   "execution_count": 93,
   "metadata": {},
   "outputs": [],
   "source": [
    "table_bookings = \"\"\" SELECT TableNo, COUNT(TableNo) AS n_booking FROM Bookings GROUP BY TableNo;\n",
    "\"\"\""
   ]
  },
  {
   "cell_type": "code",
   "execution_count": 94,
   "metadata": {},
   "outputs": [],
   "source": [
    "cursor.execute(table_bookings)"
   ]
  },
  {
   "cell_type": "code",
   "execution_count": 95,
   "metadata": {},
   "outputs": [],
   "source": [
    "fetch_no = cursor.fetchall()"
   ]
  },
  {
   "cell_type": "code",
   "execution_count": 96,
   "metadata": {},
   "outputs": [
    {
     "name": "stdout",
     "output_type": "stream",
     "text": [
      "('TableNo', 'n_booking')\n",
      "(12, 2)\n",
      "(19, 1)\n",
      "(15, 1)\n",
      "(5, 1)\n",
      "(8, 1)\n"
     ]
    }
   ],
   "source": [
    "print(cursor.column_names)\n",
    "for n in fetch_no:\n",
    "    print(n)"
   ]
  },
  {
   "cell_type": "markdown",
   "metadata": {},
   "source": [
    "### Task 4:\n",
    "\n",
    "Little lemon wants to create three arrival slots for the guests based on the booking hour: \n",
    "\n",
    "* Late afternoon: for hours 15 and 16  \n",
    "* Evening: for hours 17 and 18 \n",
    "* Night: for hours 19 and 20 \n",
    "\n",
    "Help little lemon to create the above slots and display the booking ID, guest name, and arrival slot on the kitchen screen so that the staff can plan accordingly.  \n"
   ]
  },
  {
   "cell_type": "code",
   "execution_count": 97,
   "metadata": {},
   "outputs": [],
   "source": [
    "arrival = \"\"\" SELECT BookingID, CONCAT(GuestFirstName, ' ', GuestLastName) AS Guest_Name,\n",
    "CASE\n",
    "    WHEN HOUR(BookingSlot) >= 15 AND HOUR(BookingSlot) <= 16 THEN 'Late Afternoon'\n",
    "    WHEN HOUR(BookingSlot) >= 17 AND HOUR(BookingSlot) <= 18 THEN 'Evening'\n",
    "    WHEN HOUR(BookingSlot) >= 19 AND HOUR(BookingSlot) <= 20 THEN 'Night'\n",
    "END AS Arrival_Slot\n",
    "FROM Bookings\n",
    "\"\"\""
   ]
  },
  {
   "cell_type": "code",
   "execution_count": 98,
   "metadata": {},
   "outputs": [],
   "source": [
    "cursor.execute(arrival)"
   ]
  },
  {
   "cell_type": "code",
   "execution_count": 99,
   "metadata": {},
   "outputs": [],
   "source": [
    "fetch_arrival = cursor.fetchall()"
   ]
  },
  {
   "cell_type": "code",
   "execution_count": 100,
   "metadata": {},
   "outputs": [
    {
     "name": "stdout",
     "output_type": "stream",
     "text": [
      "('BookingID', 'Guest_Name', 'Arrival_Slot')\n",
      "(1, 'Anna Iversen', 'Night')\n",
      "(2, 'Joakim Iversen', 'Night')\n",
      "(3, 'Vanessa McCarthy', 'Late Afternoon')\n",
      "(4, 'Marcos Romero', 'Evening')\n",
      "(5, 'Hiroki Yamane', 'Evening')\n",
      "(6, 'Diana Pinto', 'Night')\n"
     ]
    }
   ],
   "source": [
    "print(cursor.column_names)\n",
    "for arr in fetch_arrival:\n",
    "    print(arr)"
   ]
  },
  {
   "cell_type": "markdown",
   "metadata": {},
   "source": [
    "### Task 1\n",
    "\n",
    "Little Lemon wants to retrieve the number of bookings in each hour so that they can schedule the staff duties accordingly. Use the following steps as a guide to complete this task:  \n",
    "\n",
    "* Target the “BookingID” and “BookingSlot” columns from the “Bookings” table.  \n",
    "* Extract the hour from the “BookingSlot” column and count the bookings in each hour. \n",
    "* Group and order the data by hour."
   ]
  },
  {
   "cell_type": "code",
   "execution_count": 101,
   "metadata": {},
   "outputs": [],
   "source": [
    "query_sql = \"\"\"SELECT BookingID, HOUR(BookingSlot), COUNT(BookingSlot) FROM Bookings GROUP BY BookingID ORDER BY HOUR(BookingID)\n",
    "\"\"\""
   ]
  },
  {
   "cell_type": "code",
   "execution_count": 102,
   "metadata": {},
   "outputs": [],
   "source": [
    "cursor.execute(query_sql)"
   ]
  },
  {
   "cell_type": "code",
   "execution_count": 103,
   "metadata": {},
   "outputs": [],
   "source": [
    "fetch_sql = cursor.fetchall()"
   ]
  },
  {
   "cell_type": "code",
   "execution_count": 104,
   "metadata": {},
   "outputs": [
    {
     "name": "stdout",
     "output_type": "stream",
     "text": [
      "Upcoming Bookings:\n",
      "Hour: 19 <<>> 1 Booking/s\n",
      "Hour: 19 <<>> 1 Booking/s\n",
      "Hour: 15 <<>> 1 Booking/s\n",
      "Hour: 17 <<>> 1 Booking/s\n",
      "Hour: 18 <<>> 1 Booking/s\n",
      "Hour: 20 <<>> 1 Booking/s\n"
     ]
    }
   ],
   "source": [
    "print(\"Upcoming Bookings:\")\n",
    "for query in fetch_sql:\n",
    "    print(\"Hour: {} <<>> {} Booking/s\".format(query[1], query[2]))"
   ]
  },
  {
   "cell_type": "markdown",
   "metadata": {},
   "source": [
    "### Task 2\n",
    "\n",
    "Little Lemon needs to display the following information in the staff’s room: \n",
    "\n",
    "* Table number \n",
    "* Guest’s full name \n",
    "* Arrival time in hours and minutes (e.g., 15 hours and 0 mins) \n",
    "\n",
    "Help Little Lemon to retrieve and display the required information. Use the following steps as a guide to complete this task: \n",
    "\n",
    "* Target `TableNo`, `GuestFirstName`, `GuestLastName` and `BookingSlot` columns in the `Bookings` table.  \n",
    "* Order the data by `BookingSlot`.  \n",
    "* Use Python’s `datetime` module to extract hours and minutes using the `strptime` function when printing the record."
   ]
  },
  {
   "cell_type": "code",
   "execution_count": 105,
   "metadata": {},
   "outputs": [],
   "source": [
    "name = \"\"\"SELECT TableNo, CONCAT(GuestFirstName, \" \", GuestLastName) AS Guest_Name, BookingSlot FROM Bookings\n",
    "ORDER BY BookingSlot;\n",
    "\"\"\""
   ]
  },
  {
   "cell_type": "code",
   "execution_count": 106,
   "metadata": {},
   "outputs": [],
   "source": [
    "cursor.execute(name)"
   ]
  },
  {
   "cell_type": "code",
   "execution_count": 107,
   "metadata": {},
   "outputs": [],
   "source": [
    "fetch_name = cursor.fetchall()"
   ]
  },
  {
   "cell_type": "code",
   "execution_count": 108,
   "metadata": {},
   "outputs": [
    {
     "name": "stdout",
     "output_type": "stream",
     "text": [
      "The quests and their booking slots are: \n",
      "[Table no:] 19 >> Vanessa McCarthy is expected to arrive at 15 hrs and 0 mins\n",
      "[Table no:] 15 >> Marcos Romero is expected to arrive at 17 hrs and 30 mins\n",
      "[Table no:] 5 >> Hiroki Yamane is expected to arrive at 18 hrs and 30 mins\n",
      "[Table no:] 12 >> Anna Iversen is expected to arrive at 19 hrs and 0 mins\n",
      "[Table no:] 12 >> Joakim Iversen is expected to arrive at 19 hrs and 0 mins\n",
      "[Table no:] 8 >> Diana Pinto is expected to arrive at 20 hrs and 0 mins\n"
     ]
    }
   ],
   "source": [
    "from datetime import datetime\n",
    "print(\"The quests and their booking slots are: \")\n",
    "for names in fetch_name:\n",
    "    days = names[2].days\n",
    "    seconds = names[2].seconds\n",
    "    dates = names[2]\n",
    "    hours = seconds//3600\n",
    "    minutes = (seconds//60)%60\n",
    "    \n",
    "    print(\"[Table no:] {} >> {} is expected to arrive at {} hrs and {} mins\".format(names[0], names[1], hours, minutes))"
   ]
  },
  {
   "cell_type": "markdown",
   "metadata": {},
   "source": [
    "### Task 3\n",
    "\n",
    "A guest with booking ID 2 and table number 12 wants to change the arrival time by one hour. Help Little Lemon to make this change using Python in their application. Use the following steps as a guide to complete this task: \n",
    "\n",
    "* Target `BookingID`, `TableNo` and `BookingSlot` columns in the `Bookings` table.  \n",
    "* Add one hour in the “BookingSlot”.  \n",
    "* Use the `WHERE` clause on `TableNo` and `BookingID` columns. "
   ]
  },
  {
   "cell_type": "code",
   "execution_count": 109,
   "metadata": {},
   "outputs": [],
   "source": [
    "quest_id = \"\"\"SELECT BookingID, TableNo, BookingSlot FROM Bookings WHERE BookingID = 2 AND TableNo = 12;\n",
    "\"\"\""
   ]
  },
  {
   "cell_type": "code",
   "execution_count": 110,
   "metadata": {},
   "outputs": [],
   "source": [
    "cursor.execute(quest_id)"
   ]
  },
  {
   "cell_type": "code",
   "execution_count": 111,
   "metadata": {},
   "outputs": [],
   "source": [
    "fetch_quest = cursor.fetchall()"
   ]
  },
  {
   "cell_type": "code",
   "execution_count": 112,
   "metadata": {},
   "outputs": [
    {
     "name": "stdout",
     "output_type": "stream",
     "text": [
      "Booking Time Alert!!\n",
      "Booking ID: 2\n",
      "Table number: 12\n",
      "Booked slot: 19:00:00\n",
      "New arrival time: 20:00:00\n"
     ]
    }
   ],
   "source": [
    "print(\"Booking Time Alert!!\")\n",
    "for quest in fetch_quest:\n",
    "    new_time = quest[2] + dt.timedelta(hours = 1)\n",
    "    print(\"Booking ID: {}\".format(quest[0]))\n",
    "    print(\"Table number: {}\".format(quest[1]))\n",
    "    print(\"Booked slot: {}\".format(quest[2]))\n",
    "    print(\"New arrival time: {}\".format(new_time))"
   ]
  },
  {
   "cell_type": "markdown",
   "metadata": {},
   "source": [
    "### STORED PROCEDURE IN PYTHON"
   ]
  },
  {
   "cell_type": "code",
   "execution_count": 113,
   "metadata": {},
   "outputs": [],
   "source": [
    "# get the details of customers that have spent over 50 dollars and is qualified for a voucher\n",
    "\n",
    "\n",
    "cursor.execute(\"DROP PROCEDURE IF EXISTS GetCustomerAndBillAmount;\")\n",
    "\n",
    "procedure_query = \"\"\"\n",
    "CREATE PROCEDURE GetCustomerAndBillAmount()\n",
    "BEGIN\n",
    "SELECT B.BookingID,\n",
    "CONCAT(B.GuestFirstName, ' ', B.GuestLastName) AS CustomerName,\n",
    "O.BillAmount\n",
    "FROM Bookings B\n",
    "INNER JOIN ORDERS O\n",
    "ON B.BookingID = O.BookingID\n",
    "WHERE BillAmount >= 50\n",
    "ORDER BY BillAmount DESC;\n",
    "END\n",
    "\"\"\""
   ]
  },
  {
   "cell_type": "code",
   "execution_count": 114,
   "metadata": {},
   "outputs": [],
   "source": [
    "# excute the procedure created\n",
    "cursor.execute(procedure_query)"
   ]
  },
  {
   "cell_type": "code",
   "execution_count": 115,
   "metadata": {},
   "outputs": [
    {
     "data": {
      "text/plain": [
       "()"
      ]
     },
     "execution_count": 115,
     "metadata": {},
     "output_type": "execute_result"
    }
   ],
   "source": [
    "# call procedure\n",
    "cursor.callproc(\"GetCustomerAndBillAmount\")"
   ]
  },
  {
   "cell_type": "code",
   "execution_count": 116,
   "metadata": {},
   "outputs": [],
   "source": [
    "results = next(cursor.stored_results())"
   ]
  },
  {
   "cell_type": "code",
   "execution_count": 117,
   "metadata": {},
   "outputs": [],
   "source": [
    "datasets = results.fetchall()"
   ]
  },
  {
   "cell_type": "code",
   "execution_count": 118,
   "metadata": {},
   "outputs": [
    {
     "name": "stdout",
     "output_type": "stream",
     "text": [
      "('BookingID', 'CustomerName', 'BillAmount')\n",
      "(1, 'Anna Iversen', 86)\n"
     ]
    }
   ],
   "source": [
    "print(results.column_names)\n",
    "for data in datasets:\n",
    "    print(data)"
   ]
  },
  {
   "cell_type": "markdown",
   "metadata": {},
   "source": [
    "### Task 3:\n",
    "\n",
    "It is very important for little lemon to keep track of the status of each guest’s order and display it on the screen to keep their guests informed.  \n",
    "\n",
    "This is how they categorize the orders: \n",
    "\n",
    "* If not assigned to any employee, the status is `In Queue` \n",
    "* If assigned to the employees with IDs 4 and 5, the status is `Preparing Order` \n",
    "* If assigned to the employees with IDs 1, 2, and 3, the status is `Order Served` \n",
    "\n",
    "Create a stored procedure named `OrderStatus` for the above task and call to check if everything is working. "
   ]
  },
  {
   "cell_type": "code",
   "execution_count": 119,
   "metadata": {},
   "outputs": [],
   "source": [
    "cursor.execute(\"DROP PROCEDURE IF EXISTS OrderStatus;\")"
   ]
  },
  {
   "cell_type": "code",
   "execution_count": 120,
   "metadata": {},
   "outputs": [],
   "source": [
    "guests = \"\"\"\n",
    "CREATE PROCEDURE OrderStatus()\n",
    "BEGIN\n",
    "SELECT EmployeeID,\n",
    "CASE\n",
    "WHEN EmployeeID IN (4, 5) THEN 'Preparing Order'\n",
    "WHEN EmployeeID IN (1, 2, 3) THEN 'Order Served'\n",
    "ELSE 'In Queue' END AS Status\n",
    "FROM Bookings;\n",
    "END\n",
    "\"\"\""
   ]
  },
  {
   "cell_type": "code",
   "execution_count": 121,
   "metadata": {},
   "outputs": [],
   "source": [
    "cursor.execute(guests)"
   ]
  },
  {
   "cell_type": "code",
   "execution_count": 122,
   "metadata": {},
   "outputs": [
    {
     "data": {
      "text/plain": [
       "()"
      ]
     },
     "execution_count": 122,
     "metadata": {},
     "output_type": "execute_result"
    }
   ],
   "source": [
    "cursor.callproc(\"OrderStatus\")"
   ]
  },
  {
   "cell_type": "code",
   "execution_count": 123,
   "metadata": {},
   "outputs": [],
   "source": [
    "quest = next(cursor.stored_results())"
   ]
  },
  {
   "cell_type": "code",
   "execution_count": 124,
   "metadata": {},
   "outputs": [],
   "source": [
    "quest_result = quest.fetchall()"
   ]
  },
  {
   "cell_type": "code",
   "execution_count": 125,
   "metadata": {},
   "outputs": [
    {
     "name": "stdout",
     "output_type": "stream",
     "text": [
      "('EmployeeID', 'Status')\n",
      "(1, 'Order Served')\n",
      "(1, 'Order Served')\n",
      "(3, 'Order Served')\n",
      "(4, 'Preparing Order')\n",
      "(2, 'Order Served')\n",
      "(5, 'Preparing Order')\n"
     ]
    }
   ],
   "source": [
    "print(quest.column_names)\n",
    "for q in quest_result:\n",
    "    print(q)"
   ]
  },
  {
   "cell_type": "markdown",
   "metadata": {},
   "source": [
    "## MYSQL CONNECTION POOLING"
   ]
  },
  {
   "cell_type": "code",
   "execution_count": 126,
   "metadata": {},
   "outputs": [],
   "source": [
    "from mysql.connector.pooling import MySQLConnectionPool"
   ]
  },
  {
   "cell_type": "code",
   "execution_count": 127,
   "metadata": {},
   "outputs": [],
   "source": [
    "my_pool = MySQLConnectionPool(pool_name= 'little_lemon_pool', pool_size=4, host='localhost',\n",
    "                              database='little_lemons', user='root', password='root123')"
   ]
  },
  {
   "cell_type": "code",
   "execution_count": 128,
   "metadata": {},
   "outputs": [],
   "source": [
    "users = ['Dan', 'Sandy', 'Mary', 'Joseph']"
   ]
  },
  {
   "cell_type": "code",
   "execution_count": 129,
   "metadata": {},
   "outputs": [],
   "source": [
    "slect_stmt = \"SELECT * FROM Bookings WHERE BookingID = %(booking_id)s\""
   ]
  },
  {
   "cell_type": "code",
   "execution_count": 130,
   "metadata": {},
   "outputs": [
    {
     "name": "stdout",
     "output_type": "stream",
     "text": [
      "The connection id for Dan 24 is requestiong info on booking ()\n",
      "[(1, 12, 'Anna', 'Iversen', datetime.timedelta(seconds=68400), 1)]\n",
      "The connection id for Sandy 25 is requestiong info on booking ()\n",
      "[(2, 12, 'Joakim', 'Iversen', datetime.timedelta(seconds=68400), 1)]\n",
      "The connection id for Mary 26 is requestiong info on booking ()\n",
      "[(3, 19, 'Vanessa', 'McCarthy', datetime.timedelta(seconds=54000), 3)]\n",
      "The connection id for Joseph 27 is requestiong info on booking ()\n",
      "[(4, 15, 'Marcos', 'Romero', datetime.timedelta(seconds=63000), 4)]\n"
     ]
    }
   ],
   "source": [
    "for i in range(my_pool.pool_size):\n",
    "    conn = my_pool.get_connection()\n",
    "    if conn.is_connected:\n",
    "        cursor=conn.cursor()\n",
    "        print(\"The connection id for {} {} is requestiong info on booking ()\".format(users[i], conn.connection_id, i+1))\n",
    "        cursor.execute(slect_stmt, {'booking_id': i+1})\n",
    "        print(cursor.fetchall())\n",
    "    else:\n",
    "        print('no live connection made')\n",
    "#     conn.close()"
   ]
  },
  {
   "cell_type": "code",
   "execution_count": 131,
   "metadata": {},
   "outputs": [
    {
     "name": "stdout",
     "output_type": "stream",
     "text": [
      "little_lemons\n"
     ]
    }
   ],
   "source": [
    "print(conn.database)"
   ]
  },
  {
   "cell_type": "markdown",
   "metadata": {},
   "source": [
    "### Task 1\n",
    "Create a database connection pool with three connections available for the users to connect to the database with. You need to import MySQLConnectionPool class and pass the following arguments:\n",
    "\n",
    "* pool_name = “ll_pool_a”\n",
    "\n",
    "* pool_size = 3\n",
    "\n",
    "* **dbconfig"
   ]
  },
  {
   "cell_type": "markdown",
   "metadata": {},
   "source": [
    "### Task 2\n",
    "et a connection from the database connection pool that you have created in the first task and retrieve the following columns from the Bookings table:\n",
    "\n",
    "* BookingID\n",
    "\n",
    "* GuestFirstName\n",
    "\n",
    "* GuestLastName\n",
    "\n",
    "Retrieve the required columns and put the connection back into the pool after you have completed the task."
   ]
  },
  {
   "cell_type": "code",
   "execution_count": 132,
   "metadata": {},
   "outputs": [],
   "source": [
    "# New pooling connection\n",
    "from mysql.connector.pooling import MySQLConnectionPool\n",
    "\n",
    "dbconfig = MySQLConnectionPool(pool_name='ll_pool_a', pool_size = 3, database = 'little_lemons',\n",
    "user= 'root', password ='root123')"
   ]
  },
  {
   "cell_type": "code",
   "execution_count": 133,
   "metadata": {},
   "outputs": [],
   "source": [
    "# Add your code here\n",
    "select_data = \"SELECT BookingID, GuestFirstName, GuestLastName FROM Bookings;\""
   ]
  },
  {
   "cell_type": "code",
   "execution_count": 134,
   "metadata": {},
   "outputs": [
    {
     "name": "stdout",
     "output_type": "stream",
     "text": [
      "Creating connection for the pool\n",
      "<mysql.connector.pooling.PooledMySQLConnection object at 0x000001F200370DC0>\n",
      "Creating connection for the cursor object\n",
      "Executing sql query\n",
      "Fetching the query results\n",
      "Retreiving columns\n",
      "Printing the results.\n",
      "\n",
      "Upcoming bookings are: \n",
      "\n",
      "('BookingID', 'GuestFirstName', 'GuestLastName')\n",
      "(1, 'Anna', 'Iversen')\n",
      "(2, 'Joakim', 'Iversen')\n",
      "(3, 'Vanessa', 'McCarthy')\n",
      "(4, 'Marcos', 'Romero')\n",
      "(5, 'Hiroki', 'Yamane')\n",
      "(6, 'Diana', 'Pinto')\n"
     ]
    }
   ],
   "source": [
    "# getting connection\n",
    "print(\"Creating connection for the pool\")\n",
    "connection = dbconfig.get_connection()\n",
    "print(connection)\n",
    "\n",
    "\n",
    "# creating cursor object\n",
    "print(\"Creating connection for the cursor object\")\n",
    "cursor = connection.cursor()\n",
    "\n",
    "# execute query\n",
    "print(\"Executing sql query\")\n",
    "cursor.execute(select_data)\n",
    "\n",
    "# fetching query\n",
    "print(\"Fetching the query results\")\n",
    "sql_query = cursor.fetchall()\n",
    "\n",
    "# reterive the columns\n",
    "print(\"Retreiving columns\")\n",
    "cols = cursor.column_names\n",
    "\n",
    "# print column names and query results\n",
    "print('Printing the results.\\n')\n",
    "print(\"Upcoming bookings are: \\n\")\n",
    "print(cols)\n",
    "for query in sql_query:\n",
    "    print(query)"
   ]
  },
  {
   "cell_type": "markdown",
   "metadata": {},
   "source": [
    "### Task 3\n",
    "\n",
    "You only have three connections in the database connection pool. Use the available connection in the pool to connect three guests and then add new connections to the pool to connect the two remaining guests. Ensure that all five guests are connected to the database at the same time, by adding more connections to the pool."
   ]
  },
  {
   "cell_type": "code",
   "execution_count": 135,
   "metadata": {},
   "outputs": [],
   "source": [
    "# Add your code here\n",
    "\n",
    "from mysql.connector.pooling import MySQLConnectionPool\n",
    "\n",
    "config = MySQLConnectionPool(pool_name='ll_pool_a', pool_size = 3, database = 'little_lemons',\n",
    "user= 'root', password ='root123')"
   ]
  },
  {
   "cell_type": "code",
   "execution_count": 136,
   "metadata": {},
   "outputs": [
    {
     "name": "stdout",
     "output_type": "stream",
     "text": [
      "[Anna] is connected.\n",
      "\n",
      "[Marcod] is connected.\n",
      "\n",
      "[Diana] is connected.\n",
      "\n",
      "No more connections are available.\n",
      "Adding new connection in the pool.\n",
      "A new connection is added in the pool.\n",
      "\n",
      "[Joakin] is connected.\n",
      "\n",
      "No more connections are available.\n",
      "Adding new connection in the pool.\n",
      "A new connection is added in the pool.\n",
      "\n",
      "[Hiroki] is connected.\n",
      "\n"
     ]
    }
   ],
   "source": [
    "quests = [\"Anna\", \"Marcod\", \"Diana\", \"Joakin\", \"Hiroki\"]\n",
    "\n",
    "import mysql.connector as connector\n",
    "\n",
    "# Assign connection to each user\n",
    "for guest in quests:\n",
    "    try:\n",
    "        guest_connected = config.get_connection()\n",
    "        print(\"[{}] is connected.\\n\".format(guest))\n",
    "    except:\n",
    "        print(\"No more connections are available.\")\n",
    "        print(\"Adding new connection in the pool.\")\n",
    "        \n",
    "        # Create a connection\n",
    "        connection=connector.connect(user=\"root\",password=\"root123\")\n",
    "        # Add the connection into the pool\n",
    "        config.add_connection(cnx=connection)\n",
    "        print(\"A new connection is added in the pool.\\n\")\n",
    "        \n",
    "        user_connected = config.get_connection()\n",
    "        print(\"[{}] is connected.\\n\".format(guest))"
   ]
  },
  {
   "cell_type": "code",
   "execution_count": 137,
   "metadata": {
    "scrolled": true
   },
   "outputs": [
    {
     "name": "stdout",
     "output_type": "stream",
     "text": [
      "SELECT CONCAT(11, 22)\n"
     ]
    }
   ],
   "source": [
    "a = \"SELECT CONCAT(11, 22)\"\n",
    "print(a)"
   ]
  },
  {
   "cell_type": "code",
   "execution_count": 140,
   "metadata": {},
   "outputs": [],
   "source": [
    "# i have 2 pool created and i need to add 3 pools. So i have to add an additional pool\n",
    "# # Connect the first guest.\n",
    "# connection1 = pool.get_connection()\n",
    "# cursor1=connection1.cursor()\n",
    "# booking1=\"\"\"INSERT INTO Bookings \n",
    "# (TableNo, GuestFirstName, GuestLastName, BookingSlot, EmployeeID)\n",
    "# VALUES\n",
    "# (8,'Anees','Java','18:00:00',6);\"\"\"\n",
    "# cursor1.execute(booking1)\n",
    "# connection1.commit()\n",
    "# print(\"\"\"A new booking is added in the \"Bookings\" table.\"\"\")\n",
    "\n",
    "# # Connect the second guest .\n",
    "# connection2 = pool.get_connection()\n",
    "# cursor2=connection2.cursor()\n",
    "# booking2=\"\"\"INSERT INTO Bookings \n",
    "# (TableNo, GuestFirstName, GuestLastName, BookingSlot, EmployeeID)\n",
    "# VALUES\n",
    "# (5, 'Bald','Vin','19:00:00',6);\"\"\"\n",
    "# cursor2.execute(booking2)\n",
    "# connection2.commit()\n",
    "# print(\"\"\"A new booking is added in the \"Bookings\" table.\"\"\")\n",
    "\n",
    "# # # Adding a new connection to connect the third user.\n",
    "# # import mysql.connector as connector\n",
    "# # try:\n",
    "# #     connection3 = pool.get_connection()\n",
    "# #     print(\"The guest is connected\")\n",
    "# # except:\n",
    "# #     print(\"Adding new connection in the pool.\")\n",
    "        \n",
    "# #     # Create a connection\n",
    "# #     connection=connector.connect(user=\"root\",password=\"root123\")\n",
    "# #     # Add the connection into the pool\n",
    "# #     pool.add_connection(cnx=connection)\n",
    "# #     print(\"A new connection is added in the pool.\\n\")\n",
    "        \n",
    "# #     connection3 = pool.get_connection()\n",
    "# #     print(\"'connection3' is added in the pool.\")\n",
    "    \n",
    "# # Connect the third guest \n",
    "# connection3 = pool.get_connection()\n",
    "# cursor3=connection3.cursor()\n",
    "\n",
    "# booking3=\"\"\"INSERT INTO Bookings \n",
    "# (TableNo, GuestFirstName, GuestLastName, BookingSlot, EmployeeID)\n",
    "# VALUES\n",
    "# (12, 'Jay','Kon','19:30:00',6);\"\"\"\n",
    "# cursor3.execute(booking3)\n",
    "# connection3.commit()\n",
    "\n",
    "# print(\"\"\"A new booking is added in the \"Bookings\" table.\"\"\")\n",
    "\n",
    "# # You can only return two connections back to the pool as the pool_size=2.\n",
    "# #  Close all  connections and use try-except to print the pool error if the pool is already full.\n",
    "\n",
    "# from mysql.connector import Error\n",
    "# for connection in [connection1,connection2, connection3]:\n",
    "#     try:\n",
    "#         connection.close()\n",
    "#         print(\"Connection is returned to the pool\")\n",
    "#     except Error as er:\n",
    "#         print(\"\\nConnection can't be returned to the pool\")\n",
    "#         print(\"Error message:\", er.msg)\n"
   ]
  },
  {
   "cell_type": "code",
   "execution_count": null,
   "metadata": {},
   "outputs": [],
   "source": []
  }
 ],
 "metadata": {
  "kernelspec": {
   "display_name": "Python 3 (ipykernel)",
   "language": "python",
   "name": "python3"
  },
  "language_info": {
   "codemirror_mode": {
    "name": "ipython",
    "version": 3
   },
   "file_extension": ".py",
   "mimetype": "text/x-python",
   "name": "python",
   "nbconvert_exporter": "python",
   "pygments_lexer": "ipython3",
   "version": "3.10.9"
  }
 },
 "nbformat": 4,
 "nbformat_minor": 2
}
